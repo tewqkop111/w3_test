{
 "cells": [
  {
   "cell_type": "code",
   "execution_count": 6,
   "metadata": {},
   "outputs": [
    {
     "data": {
      "text/plain": [
       "matrix([[ 1.48029737e-16, -5.00000000e-01, -2.00000000e+00],\n",
       "        [ 6.66666667e-01,  1.33333333e+00,  4.66666667e+00],\n",
       "        [ 3.33333333e-01,  1.16666667e+00,  3.33333333e+00]])"
      ]
     },
     "execution_count": 6,
     "metadata": {},
     "output_type": "execute_result"
    }
   ],
   "source": [
    "import numpy as np\n",
    "from numpy.linalg import inv\n",
    "a = np.array([[3., 2.,-1.], [2., -2.,4.],[-1., 0.5,-1.]])\n",
    "ainv = inv(a)\n",
    "ainv = inv(np.matrix(a))\n",
    "ainv"
   ]
  },
  {
   "cell_type": "code",
   "execution_count": 7,
   "metadata": {},
   "outputs": [
    {
     "name": "stdout",
     "output_type": "stream",
     "text": [
      "[[ 3.   2.  -1. ]\n",
      " [ 2.  -2.   4. ]\n",
      " [-1.   0.5 -1. ]]\n",
      "[ 1. -2.  0.]\n"
     ]
    }
   ],
   "source": [
    "A = np.array([[3., 2.,-1.], [2., -2.,4.],[-1., 0.5,-1.]])\n",
    "print (A)\n",
    "b = np.array([1.,-2.,0.])\n",
    "print (b)"
   ]
  },
  {
   "cell_type": "code",
   "execution_count": 8,
   "metadata": {},
   "outputs": [
    {
     "name": "stdout",
     "output_type": "stream",
     "text": [
      "[ 1. -2. -2.]\n"
     ]
    }
   ],
   "source": [
    "z = np.linalg.solve(A,b)\n",
    "print (z)"
   ]
  },
  {
   "cell_type": "code",
   "execution_count": null,
   "metadata": {},
   "outputs": [],
   "source": []
  }
 ],
 "metadata": {
  "kernelspec": {
   "display_name": "Python 3",
   "language": "python",
   "name": "python3"
  },
  "language_info": {
   "codemirror_mode": {
    "name": "ipython",
    "version": 3
   },
   "file_extension": ".py",
   "mimetype": "text/x-python",
   "name": "python",
   "nbconvert_exporter": "python",
   "pygments_lexer": "ipython3",
   "version": "3.6.7"
  }
 },
 "nbformat": 4,
 "nbformat_minor": 2
}
