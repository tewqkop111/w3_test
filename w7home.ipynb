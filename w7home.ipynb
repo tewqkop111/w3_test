{
 "cells": [
  {
   "cell_type": "markdown",
   "metadata": {},
   "source": [
    "# https://en.wikipedia.org/wiki/Finite_difference\n",
    "\n",
    "Three forms are commonly considered: forward, backward, and central differences.[1][2][3]\n",
    "\n",
    "A forward difference is an expression of the form\n",
    "\n",
    "$$ \\displaystyle \\Delta _{h}[f](x)=f(x+\\Delta x)-f(x).$$\n",
    "Depending on the application, the spacing h may be variable or constant. When omitted, $\\Delta x=h$ is taken to be 1: Δ[ f ](x) = Δ1[ f ](x).\n",
    "\n",
    "A backward difference uses the function values at x and x − \\Delta, instead of the values at x + \\Delta and x:\n",
    "\n",
    "$$ \\displaystyle \\nabla _{h}[f](x)=f(x)-f(x-\\Delta x).$$\n",
    "\n",
    "Finally, the central difference is given by\n",
    "\n",
    "$$\\displaystyle \\delta _{h}[f](x) = f\\left(x+{\\tfrac {1}{2}}\\Delta x\\right)-f\\left(x-{\\tfrac {1}{2}}\\Delta x \\right) $$"
   ]
  },
  {
   "cell_type": "markdown",
   "metadata": {},
   "source": [
    "The derivative of a function f at a point x is defined by the limit.\n",
    "\n",
    "$$ f'(x)=\\lim_{h\\to 0} {\\frac {f(x+h)-f(x)}{h}} $$"
   ]
  },
  {
   "cell_type": "code",
   "execution_count": 1,
   "metadata": {},
   "outputs": [
    {
     "data": {
      "text/plain": [
       "<matplotlib.figure.Figure at 0x7fb2dc3ece48>"
      ]
     },
     "metadata": {},
     "output_type": "display_data"
    }
   ],
   "source": [
    "# red dashes, blue squares and green triangles\n",
    "#Example: [a,b], n\n",
    "# https://matplotlib.org/users/pyplot_tutorial.html\n",
    "import numpy as np\n",
    "import matplotlib.pyplot as plt\n",
    "a=0\n",
    "b=1\n",
    "n=3\n",
    "deltax=(b-a)/n\n",
    "deltax\n",
    "# evenly sampled time at delta x intervals\n",
    "x = np.arange(a, b+deltax, deltax)\n",
    "#x = np.linspace(a, b, n+1)\n",
    "x\n",
    "x = np.linspace(-3, 3, 50)\n",
    "y2 = x**2+1\n",
    "\n",
    "\n",
    "plt.figure()\n",
    "#set x limits\n",
    "plt.xlim((0, 2))\n",
    "plt.ylim((0, 3))\n",
    "\n",
    "# set new sticks\n",
    "new_sticks = np.linspace(0, 2, 5)\n",
    "plt.xticks(new_sticks)\n",
    "# set tick labels\n",
    "plt.yticks(np.arange(0, 5, step=1))\n",
    "\n",
    "# set line styles\n",
    "\n",
    "l2, = plt.plot(x, y2, color='red', linewidth=1.0, linestyle='--', label='f(x)= x^2+1')\n",
    "\n",
    "plt.legend(loc='upper left')\n",
    "\n",
    "plt.show()"
   ]
  },
  {
   "cell_type": "markdown",
   "metadata": {},
   "source": [
    "plot a secant line pass the points (0,1) and (1,2)\n"
   ]
  },
  {
   "cell_type": "code",
   "execution_count": 2,
   "metadata": {},
   "outputs": [
    {
     "data": {
      "image/png": "[encoded data removed]",
      "text/plain": [
       "<matplotlib.figure.Figure at 0x7fb2ab4e8be0>"
      ]
     },
     "metadata": {},
     "output_type": "display_data"
    }
   ],
   "source": [
    "import matplotlib.pyplot as plt\n",
    "import numpy as np\n",
    "\n",
    "def main():\n",
    "    # x = np.linspace(-2,2,100)\n",
    "    a=-2\n",
    "    b=3\n",
    "    divx=0.01\n",
    "    x = np.arange(a, b, divx)\n",
    "    x1=1\n",
    "    p1 = int((x1-a)/divx)  #starts from zero\n",
    "    deltax=0.01\n",
    "    count_deltax=int(deltax/divx)\n",
    "    p2 = p1 + count_deltax #starts from zero\n",
    "    \n",
    "    y1 = main_func(x)\n",
    "    y2 = calculate_secant(x, y1, p1, p2)\n",
    "    plot(x, y1, y2)\n",
    "    plt.show()\n",
    "\n",
    "def main_func(x):\n",
    "    return x**2+1\n",
    "\n",
    "def calculate_secant(x, y, p1, p2):\n",
    "    points = [p1, p2]\n",
    "    m, b = np.polyfit(x[points], y[points], 1)\n",
    "    return m * x + b\n",
    "\n",
    "def plot(x, y1, y2):\n",
    "    plt.plot(x, y1)\n",
    "    plt.plot(x, y2)\n",
    "    #set x limits\n",
    "    plt.xlim((-2, 2))\n",
    "    #set x limits\n",
    "    plt.ylim((0, 4))\n",
    "\n",
    "\n",
    "\n",
    "main()"
   ]
  },
  {
   "cell_type": "code",
   "execution_count": 3,
   "metadata": {},
   "outputs": [
    {
     "name": "stdout",
     "output_type": "stream",
     "text": [
      "2.010000000000023\n"
     ]
    }
   ],
   "source": [
    "    f = lambda x: x**2+1\n",
    "    def derivative(f,h=0.01):\n",
    "        return lambda x: float((f(x+h)-f(x))/h)\n",
    "    fprime = derivative(f)\n",
    "    print (fprime(1))"
   ]
  },
  {
   "cell_type": "markdown",
   "metadata": {},
   "source": [
    "The derivative of a function f at a point x is defined by the limit.\n",
    "\n",
    "$$ f'(x)=\\lim_{h\\to 0} {\\frac {f(x+h)-f(x)}{h}}=2x $$\n",
    "h=0.01，x=1\n",
    "$$ f'(1)=\\lim_{0.01\\to 0} {\\frac {f(1+h)-f(1)}{0.01}} $$\n",
    "$$ f'(1)=2$$"
   ]
  },
  {
   "cell_type": "markdown",
   "metadata": {},
   "source": [
    "forward difference"
   ]
  },
  {
   "cell_type": "markdown",
   "metadata": {},
   "source": [
    "$$ f(x)=x^2+1$$\n",
    "$$ f'(x)=2x $$\n",
    "$$ f'(x)=2x 在x=1的點$$\n",
    "$$帶1進去就是斜率$$\n",
    "$$ f'(1)=2 斜率為2$$\n"
   ]
  },
  {
   "cell_type": "code",
   "execution_count": 4,
   "metadata": {},
   "outputs": [
    {
     "data": {
      "text/plain": [
       "2*x"
      ]
     },
     "execution_count": 4,
     "metadata": {},
     "output_type": "execute_result"
    }
   ],
   "source": [
    "from sympy import diff, Symbol, sin, tan\n",
    "x = Symbol('x')\n",
    "diff(main_func(x), x)"
   ]
  },
  {
   "cell_type": "code",
   "execution_count": 18,
   "metadata": {},
   "outputs": [
    {
     "data": {
      "text/plain": [
       "2"
      ]
     },
     "execution_count": 18,
     "metadata": {},
     "output_type": "execute_result"
    }
   ],
   "source": [
    "x=1\n",
    "h=0.01\n",
    "slope=(main_func(x+h)-main_func(x))/h\n",
    "int (slope)"
   ]
  },
  {
   "cell_type": "markdown",
   "metadata": {},
   "source": [
    "A backward difference uses the function values at x and x − \\Delta, instead of the values at x + \\Delta and x:\n",
    "\n",
    "$$ f'(x)=\\lim_{h\\to 0}{\\frac{(f(x)-f(x-\\Delta x))}{\\Delta x}}$$"
   ]
  },
  {
   "cell_type": "code",
   "execution_count": 23,
   "metadata": {},
   "outputs": [
    {
     "data": {
      "text/plain": [
       "1.9900000000000029"
      ]
     },
     "execution_count": 23,
     "metadata": {},
     "output_type": "execute_result"
    }
   ],
   "source": [
    "deltax=0.01\n",
    "backward_difference=((main_func(x))-(main_func(x-deltax)))/deltax\n",
    "backward_difference"
   ]
  },
  {
   "cell_type": "markdown",
   "metadata": {},
   "source": [
    "Finally, the central difference is given by\n",
    "\n",
    "$$ f'(x) = \\lim_{h\\to 0} {\\frac {f\\left(x+{\\tfrac {1}{2}}\\Delta x\\right)-f\\left(x-{\\tfrac {1}{2}}\\Delta x \\right)}{\\Delta x}} $$"
   ]
  },
  {
   "cell_type": "code",
   "execution_count": 26,
   "metadata": {},
   "outputs": [
    {
     "data": {
      "text/plain": [
       "1.9999999999999574"
      ]
     },
     "execution_count": 26,
     "metadata": {},
     "output_type": "execute_result"
    }
   ],
   "source": [
    "deltax=0.01\n",
    "central_difference=((main_func(x+0.5*deltax))-(main_func(x-0.5*deltax)))/deltax\n",
    "central_difference"
   ]
  },
  {
   "cell_type": "code",
   "execution_count": 6,
   "metadata": {},
   "outputs": [
    {
     "data": {
      "text/plain": [
       "1"
      ]
     },
     "execution_count": 6,
     "metadata": {},
     "output_type": "execute_result"
    }
   ],
   "source": [
    "x=0\n",
    "deltax=1\n",
    "main_func(x+deltax)-main_func(x)"
   ]
  },
  {
   "cell_type": "markdown",
   "metadata": {},
   "source": [
    "The derivative of a function f at a point x is defined by the limit.\n",
    "\n",
    "$$ f'(x)=\\lim_{h\\to 0} {\\frac {f(x+h)-f(x)}{h}} $$"
   ]
  },
  {
   "cell_type": "markdown",
   "metadata": {},
   "source": [
    "http://www.math.unl.edu/~s-bbockel1/833-notes/node23.html\n",
    "forward difference approximation:\n",
    "$$ f'(x)={\\frac {f(x+h)-f(x)}{h}}+O(h) $$"
   ]
  },
  {
   "cell_type": "markdown",
   "metadata": {},
   "source": [
    "$$ f'(1)=?$$"
   ]
  },
  {
   "cell_type": "code",
   "execution_count": null,
   "metadata": {},
   "outputs": [],
   "source": []
  }
 ],
 "metadata": {
  "kernelspec": {
   "display_name": "Python 3",
   "language": "python",
   "name": "python3"
  },
  "language_info": {
   "codemirror_mode": {
    "name": "ipython",
    "version": 3
   },
   "file_extension": ".py",
   "mimetype": "text/x-python",
   "name": "python",
   "nbconvert_exporter": "python",
   "pygments_lexer": "ipython3",
   "version": "3.6.6"
  }
 },
 "nbformat": 4,
 "nbformat_minor": 2
}
