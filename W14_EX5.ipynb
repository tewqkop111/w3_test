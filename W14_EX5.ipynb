{
 "cells": [
  {
   "cell_type": "markdown",
   "metadata": {
    "colab_type": "text",
    "id": "TVEImCsN_2_v"
   },
   "source": [
    "\n",
    " $V(h)=h(14−2h)(10−2h)=140h−48h^2+4h^3$<p></p>\n",
    " $V′(h)=140−96h+12h^2$<p></p>\n",
    " $V(1.9183)=120.1644$<p></p>"
   ]
  },
  {
   "cell_type": "code",
   "execution_count": 39,
   "metadata": {
    "colab": {},
    "colab_type": "code",
    "id": "Ly3YOZ-F9aOu"
   },
   "outputs": [],
   "source": [
    "import tensorflow as tf\n",
    "import numpy as np\n",
    "import matplotlib.pyplot as plt\n",
    "%matplotlib inline\n",
    "import pylab\n",
    "import numpy\n",
    "import matplotlib.mlab as mlab"
   ]
  },
  {
   "cell_type": "code",
   "execution_count": 40,
   "metadata": {
    "colab": {},
    "colab_type": "code",
    "id": "UxR0_-bb9x-Q"
   },
   "outputs": [],
   "source": [
    "def main_func(x):\n",
    "  return x*(14-2*x)*(10-2*x)"
   ]
  },
  {
   "cell_type": "code",
   "execution_count": 41,
   "metadata": {},
   "outputs": [],
   "source": [
    "x = tf.Variable(tf.random_uniform([1], 0, 2))"
   ]
  },
  {
   "cell_type": "code",
   "execution_count": 43,
   "metadata": {
    "colab": {},
    "colab_type": "code",
    "id": "so-vFKox9aO6"
   },
   "outputs": [
    {
     "name": "stdout",
     "output_type": "stream",
     "text": [
      "WARNING:tensorflow:From <ipython-input-43-965db77dfe71>:4: initialize_all_variables (from tensorflow.python.ops.variables) is deprecated and will be removed after 2017-03-02.\n",
      "Instructions for updating:\n",
      "Use `tf.global_variables_initializer` instead.\n"
     ]
    }
   ],
   "source": [
    "loss = tf.reduce_mean(x*(14-2*x)*(10-2*x))  # Create an operation that calculates loss.\n",
    "optimizer = tf.train.GradientDescentOptimizer(-0.01)  # Create an optimizer.\n",
    "train = optimizer.minimize(loss)  # Create an operation that minimizes loss.\n",
    "init = tf.initialize_all_variables() "
   ]
  },
  {
   "cell_type": "code",
   "execution_count": 44,
   "metadata": {},
   "outputs": [],
   "source": [
    "sess = tf.Session()\n",
    "sess.run(init)"
   ]
  },
  {
   "cell_type": "code",
   "execution_count": 45,
   "metadata": {
    "colab": {
     "base_uri": "https://localhost:8080/",
     "height": 284
    },
    "colab_type": "code",
    "executionInfo": {
     "elapsed": 645,
     "status": "ok",
     "timestamp": 1544409784587,
     "user": {
      "displayName": "廖翌翔",
      "photoUrl": "https://lh4.googleusercontent.com/-GHVhFoC4BLE/AAAAAAAAAAI/AAAAAAAAAT0/9nlS2TrPN50/s64/photo.jpg",
      "userId": "07211166903929382953"
     },
     "user_tz": -480
    },
    "id": "1MoVie3p9aPE",
    "outputId": "3ac0c894-5cc5-419f-fe7d-00a0c88e41c6"
   },
   "outputs": [
    {
     "name": "stdout",
     "output_type": "stream",
     "text": [
      "0 [array([1.615013], dtype=float32)]\n",
      "1 [array([1.7775925], dtype=float32)]\n",
      "2 [array([1.8502839], dtype=float32)]\n",
      "3 [array([1.8848374], dtype=float32)]\n",
      "4 [array([1.9017069], dtype=float32)]\n",
      "5 [array([1.910047], dtype=float32)]\n",
      "6 [array([1.9141954], dtype=float32)]\n",
      "7 [array([1.9162651], dtype=float32)]\n",
      "8 [array([1.9172993], dtype=float32)]\n",
      "9 [array([1.9178164], dtype=float32)]\n",
      "[array([1.9178164], dtype=float32)]\n"
     ]
    }
   ],
   "source": [
    "for step in range(10):\n",
    "    sess.run(train)\n",
    "    print(step, sess.run([x]))\n",
    "print(sess.run([x]))"
   ]
  },
  {
   "cell_type": "code",
   "execution_count": null,
   "metadata": {
    "colab": {
     "base_uri": "https://localhost:8080/",
     "height": 11726
    },
    "colab_type": "code",
    "executionInfo": {
     "elapsed": 16800,
     "status": "ok",
     "timestamp": 1544411414663,
     "user": {
      "displayName": "廖翌翔",
      "photoUrl": "https://lh4.googleusercontent.com/-GHVhFoC4BLE/AAAAAAAAAAI/AAAAAAAAAT0/9nlS2TrPN50/s64/photo.jpg",
      "userId": "07211166903929382953"
     },
     "user_tz": -480
    },
    "id": "1FTmkscXF6uS",
    "outputId": "0d9898ae-4352-4fce-b061-eb3fc6463a39"
   },
   "outputs": [
    {
     "name": "stdout",
     "output_type": "stream",
     "text": [
      "Eval 11.439790889773397, 6.124821171196882, 0.04416197499764851: 996.9057173195621\n",
      "Eval 10.489817183683781, 5.545713883660466, 0.9104281233611471: 947.0371869937561\n",
      "Eval 11.045425267176308, 6.3482996221886845, 0.2822197469739043: 980.2108447426659\n",
      "Eval 10.666347952341724, 6.537040038716407, 1.4868265294484027: 896.3290224874901\n",
      "Eval 10.226046991096398, 5.342626877288566, 1.9869112565596383: 891.4471827944391\n",
      "Best [10.226046991096398, 5.342626877288566, 1.9869112565596383]\n",
      "\n",
      "Eval 10.0, 5.0, 1.6801112584885427: 915.9944370755728\n",
      "Eval 10.58007328971684, 5.0, 1.4513155878003068: 923.2248735728214\n",
      "Eval 10.0, 7.0, 1.7411580885305775: 878.1189338028596\n",
      "Eval 10.856013359001228, 5.0, 2.0: 891.4398664099878\n",
      "Eval 10.882654565452523, 5.536039886447461, 2.0: 879.5063805104505\n",
      "Best [10.0, 7.0, 1.7411580885305775]\n",
      "\n",
      "Eval 10.0, 6.179975995527868, 1.2099270899530872: 925.2267962775103\n",
      "Eval 10.18119107386847, 5.0, 2.0: 898.1880892613153\n",
      "Eval 10.0, 6.999863020713381, 2.0: 860.0027395857323\n",
      "Eval 10.30481047619032, 6.712824078670925, 1.4936390110242457: 896.6784476318232\n",
      "Eval 11.79746400674569, 5.602875179463448, 1.6834584772427061: 888.7238689450999\n",
      "Best [10.0, 6.999863020713381, 2.0]\n",
      "\n",
      "Eval 10.645303273341085, 7.0, 2.0: 850.9657541732248\n",
      "Eval 11.059290278519956, 6.5844867915189, 2.0: 854.360498475024\n",
      "Eval 10.0, 6.347961448359907, 0.42581439210906846: 972.9694665473482\n",
      "Eval 11.099248371635747, 6.911000247763419, 1.2965776414672032: 900.5435378216903\n",
      "Eval 10.15932839485984, 6.438113855893549, 1.4524966542739493: 904.9966778383448\n",
      "Best [10.645303273341085, 7.0, 2.0]\n",
      "\n",
      "Eval 11.166067834842716, 6.563514960581649, 2.0: 853.4226934302806\n",
      "Eval 11.316674873597734, 6.685963594384169, 1.8976628460476237: 856.4173709829151\n",
      "Eval 10.944070669845662, 7.0, 1.5964813676894813: 877.6959656224012\n",
      "Eval 10.089235314237154, 6.465337482558681, 2.0: 869.5393775050156\n",
      "Eval 10.0, 7.0, 0.0: 1000.0\n",
      "Best [11.166067834842716, 6.563514960581649, 2.0]\n",
      "\n",
      "Eval 10.529495834276593, 6.558477654571004, 0.08717946842808422: 993.9796070722011\n",
      "Eval 10.229990544949931, 6.220566161458918, 1.2736146350934003: 918.9518349471957\n",
      "Eval 11.55240696937605, 6.653054053036377, 2.0: 846.282423980134\n",
      "Eval 10.913285068604607, 5.440205105836337, 2.0: 881.2589816966595\n",
      "Eval 12.0, 5.7631914413668035, 0.868517747719959: 939.934791395982\n",
      "Best [11.55240696937605, 6.653054053036377, 2.0]\n",
      "\n",
      "Eval 11.844299612709445, 7.0, 2.0: 834.1798054220678\n",
      "Eval 12.0, 5.0, 2.0: 880.0\n",
      "Eval 12.0, 7.0, 1.9993691667259872: 832.052989995017\n",
      "Eval 10.57768418673513, 6.886462678842347, 2.0: 854.3143452389354\n",
      "Eval 10.48395695677607, 7.0, 2.0: 853.224602605135\n",
      "Best [12.0, 7.0, 1.9993691667259872]\n",
      "\n",
      "Eval 12.0, 7.0, 1.9550146595690245: 835.7787685962019\n",
      "Eval 11.991874810326877, 7.0, 2.0: 832.1137526554237\n",
      "Eval 12.0, 7.0, 2.0: 832.0\n",
      "Eval 12.0, 7.0, 2.0: 832.0\n",
      "Eval 10.794495616916786, 5.8285691361708505, 2.0: 874.1670720134146\n",
      "Best [12.0, 7.0, 2.0]\n",
      "\n",
      "Eval 11.440038813875619, 7.0, 2.0: 839.8394566057414\n",
      "Eval 12.0, 7.0, 2.0: 832.0\n",
      "Eval 12.0, 7.0, 1.325685183798719: 888.6424445609076\n",
      "Eval 11.308932111459306, 7.0, 1.8153966383955331: 856.2886186270944\n",
      "Eval 11.17525377009978, 7.0, 2.0: 843.5464472186031\n",
      "Best [12.0, 7.0, 2.0]\n",
      "\n",
      "Eval 11.519494541536377, 6.886291650788726, 2.0: 841.3468018346235\n",
      "Eval 12.0, 6.722484294548279, 1.926494993865066: 844.5900119225946\n",
      "Eval 12.0, 6.243873454708274, 1.4699884329897501: 889.858938934325\n",
      "Eval 11.09337661305998, 6.51408580425201, 2.0: 855.4735857672895\n",
      "Eval 12.0, 6.2272754669326975, 0.4407830353021842: 967.0614714162709\n",
      "Best [11.519494541536377, 6.886291650788726, 2.0]\n",
      "\n"
     ]
    }
   ],
   "source": [
    "import numpy as np\n",
    "\n",
    "import multiprocessing\n",
    "from collections import OrderedDict\n",
    "import os\n",
    "import time\n",
    "\n",
    "\n",
    "def eval_iter(arg_lst, l_lst):\n",
    "    for c_i, args in enumerate(arg_lst):\n",
    "        yield c_i, args, l_lst\n",
    "\n",
    "\n",
    "def eval_func(c_i, args, l_lst):\n",
    "    assert len(args) == 3\n",
    "    x = args[0]\n",
    "    y = args[1]\n",
    "    z = args[2]\n",
    "    res = 1000 - (x*y*z)\n",
    "    print(f\"Eval {x}, {y}, {z}: {res}\")\n",
    "    l_lst[c_i] = res\n",
    "\n",
    "\n",
    "if __name__ == '__main__':\n",
    "\n",
    "    generation_num = 100\n",
    "    child_num = 5\n",
    "\n",
    "    space = OrderedDict((\n",
    "        ('x', (10.,12.)),\n",
    "        ('y', (5.,7.)),\n",
    "        ('z', (0.,2.))\n",
    "    ))\n",
    "\n",
    "    params = OrderedDict([(nm, []) for nm in space.keys()])\n",
    "    for nm, v_range in space.items():\n",
    "        params[nm] = np.random.uniform(v_range[0], v_range[1], size=child_num)\n",
    "\n",
    "    arg_list = []\n",
    "    for c_n in range(child_num):\n",
    "        arg_list.append([val[c_n] for val in params.values()])\n",
    "\n",
    "    manager = multiprocessing.Manager()\n",
    "    loss_lst = manager.list([np.inf for i in range(child_num)])\n",
    "\n",
    "    for r_n in range(generation_num):\n",
    "        with multiprocessing.Pool(os.cpu_count()) as pool:\n",
    "            pool.starmap(eval_func, eval_iter(arg_list, loss_lst))\n",
    "\n",
    "        fittest_idx = int(np.argmin(loss_lst))\n",
    "        base_args = arg_list[fittest_idx]\n",
    "        print(f\"Best {base_args}\\n\")\n",
    "\n",
    "        # mutate offspring from fittest individual\n",
    "        params = OrderedDict([(nm, []) for nm in space.keys()])\n",
    "        for s_i, (nm, v_range) in enumerate(space.items()):\n",
    "            std = (v_range[1] - v_range[0]) / 2\n",
    "            noise = np.random.normal(0, std, size=child_num)\n",
    "            new_param = base_args[s_i] + noise\n",
    "            params[nm] = np.clip(new_param, v_range[0], v_range[1])\n",
    "\n",
    "        arg_list = []\n",
    "        for c_n in range(child_num):\n",
    "            arg_list.append([val[c_n] for val in params.values()])\n",
    "\n",
    "        loss_lst = manager.list([np.inf for i in range(child_num)])"
   ]
  },
  {
   "cell_type": "code",
   "execution_count": null,
   "metadata": {
    "colab": {},
    "colab_type": "code",
    "id": "ZCooTdcWF760"
   },
   "outputs": [],
   "source": []
  }
 ],
 "metadata": {
  "accelerator": "GPU",
  "colab": {
   "collapsed_sections": [],
   "name": "Example5.ipynb",
   "provenance": [],
   "version": "0.3.2"
  },
  "kernelspec": {
   "display_name": "Python 3",
   "language": "python",
   "name": "python3"
  },
  "language_info": {
   "codemirror_mode": {
    "name": "ipython",
    "version": 3
   },
   "file_extension": ".py",
   "mimetype": "text/x-python",
   "name": "python",
   "nbconvert_exporter": "python",
   "pygments_lexer": "ipython3",
   "version": "3.6.6"
  }
 },
 "nbformat": 4,
 "nbformat_minor": 2
}
